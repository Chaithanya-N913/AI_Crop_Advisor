{
 "cells": [
  {
   "cell_type": "code",
   "execution_count": 12,
   "id": "af87c997-15d4-4730-aa5c-7f51aaeb2bad",
   "metadata": {},
   "outputs": [],
   "source": [
    "import joblib\n",
    "import numpy as np\n",
    "\n",
    "model = joblib.load('../models/best_model_DecisionTree.pkl')\n",
    "le = joblib.load('../models/label_encoder.pkl')\n"
   ]
  },
  {
   "cell_type": "code",
   "execution_count": 10,
   "id": "82f429a9-7bd9-44ff-b329-7d2cd698e1cc",
   "metadata": {},
   "outputs": [
    {
     "name": "stdout",
     "output_type": "stream",
     "text": [
      "Welcome to the AI Crop Advisor 🌾\n"
     ]
    },
    {
     "name": "stdin",
     "output_type": "stream",
     "text": [
      "Enter your name:  raghav\n"
     ]
    },
    {
     "name": "stdout",
     "output_type": "stream",
     "text": [
      "\n",
      "Please enter the following crop field details:\n"
     ]
    },
    {
     "name": "stdin",
     "output_type": "stream",
     "text": [
      "Nitrogen content (N):  45\n",
      "Phosphorus content (P):  40\n",
      "Potassium content (K):  35\n",
      "Temperature (°C):  29\n",
      "Humidity (%):  80\n",
      "Soil pH:  6.7\n",
      "Rainfall (mm):  145\n"
     ]
    },
    {
     "name": "stdout",
     "output_type": "stream",
     "text": [
      "\n",
      "🙏 Dear Farmer Raghav, based on your field conditions,\n",
      "🌾 It is best to cultivate **JUTE**.\n",
      "🌱 Wishing you a successful and profitable harvest!\n"
     ]
    }
   ],
   "source": [
    "import joblib\n",
    "import pandas as pd\n",
    "\n",
    "model_path = \"../models/best_model_DecisionTree.pkl\" \n",
    "model = joblib.load(model_path)\n",
    "\n",
    "label_encoder_path = \"../models/label_encoder.pkl\"  \n",
    "le = joblib.load(label_encoder_path)\n",
    "\n",
    "feature_names = ['N', 'P', 'K', 'temperature', 'humidity', 'ph', 'rainfall']\n",
    "\n",
    "print(\"Welcome to the AI Crop Advisor 🌾\")\n",
    "\n",
    "user_name = input(\"Enter your name: \").strip().title()\n",
    "\n",
    "print(\"\\nPlease enter the following crop field details:\")\n",
    "\n",
    "try:\n",
    "    N = float(input(\"Nitrogen content (N): \"))\n",
    "    P = float(input(\"Phosphorus content (P): \"))\n",
    "    K = float(input(\"Potassium content (K): \"))\n",
    "    temperature = float(input(\"Temperature (°C): \"))\n",
    "    humidity = float(input(\"Humidity (%): \"))\n",
    "    ph = float(input(\"Soil pH: \"))\n",
    "    rainfall = float(input(\"Rainfall (mm): \"))\n",
    "\n",
    "    user_input_df = pd.DataFrame([[N, P, K, temperature, humidity, ph, rainfall]],\n",
    "                                 columns=feature_names)\n",
    "\n",
    "    predicted_label = model.predict(user_input_df)[0]\n",
    "    crop_name = le.inverse_transform([predicted_label])[0]  \n",
    "    print(f\"\\n🙏 Dear Farmer {user_name}, based on your field conditions,\")\n",
    "    print(f\"🌾 It is best to cultivate **{crop_name.upper()}**.\")\n",
    "    print(\"🌱 Wishing you a successful and profitable harvest!\")\n",
    "\n",
    "except ValueError:\n",
    "    print(\"Invalid input. Please enter numeric values only.\")\n"
   ]
  },
  {
   "cell_type": "code",
   "execution_count": null,
   "id": "677266d1-e566-4ce2-baeb-2aaa76108f31",
   "metadata": {},
   "outputs": [],
   "source": []
  }
 ],
 "metadata": {
  "kernelspec": {
   "display_name": "Python [conda env:base] *",
   "language": "python",
   "name": "conda-base-py"
  },
  "language_info": {
   "codemirror_mode": {
    "name": "ipython",
    "version": 3
   },
   "file_extension": ".py",
   "mimetype": "text/x-python",
   "name": "python",
   "nbconvert_exporter": "python",
   "pygments_lexer": "ipython3",
   "version": "3.12.3"
  }
 },
 "nbformat": 4,
 "nbformat_minor": 5
}
